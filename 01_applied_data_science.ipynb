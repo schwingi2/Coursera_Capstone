{
 "cells": [
  {
   "cell_type": "markdown",
   "metadata": {},
   "source": [
    "URL for the required data:\n",
    "https://en.wikipedia.org/wiki/List_of_postal_codes_of_Canada:_M\n",
    "\n",
    "Summary of Instructions for preparing the data:\n",
    "\n",
    "1) The dataframe will consist of three columns: PostalCode, Borough, and Neighborhood\n",
    "2) Only process the cells that have an assigned borough. Ignore cells with a borough that is Not assigned.\n",
    "3) More than one neighborhood can exist in one postal code area. For example, in the table on the Wikipedia page, you will   notice that M5A is listed twice and has two neighborhoods: Harbourfront and Regent Park. These two rows will be combined into one row with the neighborhoods separated with a comma as shown in row 11 in the above table.\n",
    "4) If a cell has a borough but a Not assigned neighborhood, then the neighborhood will be the same as the borough.\n",
    "5) Clean your Notebook and add Markdown cells to explain your work and any assumptions you are making.\n",
    "6) In the last cell of your notebook, use the .shape method to print the number of rows of your dataframe."
   ]
  },
  {
   "cell_type": "code",
   "execution_count": 7,
   "metadata": {},
   "outputs": [
    {
     "data": {
      "text/html": [
       "<div>\n",
       "<style scoped>\n",
       "    .dataframe tbody tr th:only-of-type {\n",
       "        vertical-align: middle;\n",
       "    }\n",
       "\n",
       "    .dataframe tbody tr th {\n",
       "        vertical-align: top;\n",
       "    }\n",
       "\n",
       "    .dataframe thead th {\n",
       "        text-align: right;\n",
       "    }\n",
       "</style>\n",
       "<table border=\"1\" class=\"dataframe\">\n",
       "  <thead>\n",
       "    <tr style=\"text-align: right;\">\n",
       "      <th></th>\n",
       "      <th>PostalCode</th>\n",
       "      <th>Borough</th>\n",
       "      <th>Neighborhood</th>\n",
       "    </tr>\n",
       "  </thead>\n",
       "  <tbody>\n",
       "    <tr>\n",
       "      <th>0</th>\n",
       "      <td>None</td>\n",
       "      <td>None</td>\n",
       "      <td>None</td>\n",
       "    </tr>\n",
       "    <tr>\n",
       "      <th>1</th>\n",
       "      <td>M1A</td>\n",
       "      <td>Not assigned</td>\n",
       "      <td>Not assigned</td>\n",
       "    </tr>\n",
       "    <tr>\n",
       "      <th>2</th>\n",
       "      <td>M2A</td>\n",
       "      <td>Not assigned</td>\n",
       "      <td>Not assigned</td>\n",
       "    </tr>\n",
       "    <tr>\n",
       "      <th>3</th>\n",
       "      <td>M3A</td>\n",
       "      <td>North York</td>\n",
       "      <td>Parkwoods</td>\n",
       "    </tr>\n",
       "    <tr>\n",
       "      <th>4</th>\n",
       "      <td>M4A</td>\n",
       "      <td>North York</td>\n",
       "      <td>Victoria Village</td>\n",
       "    </tr>\n",
       "  </tbody>\n",
       "</table>\n",
       "</div>"
      ],
      "text/plain": [
       "  PostalCode       Borough      Neighborhood\n",
       "0       None          None              None\n",
       "1        M1A  Not assigned      Not assigned\n",
       "2        M2A  Not assigned      Not assigned\n",
       "3        M3A    North York         Parkwoods\n",
       "4        M4A    North York  Victoria Village"
      ]
     },
     "execution_count": 7,
     "metadata": {},
     "output_type": "execute_result"
    }
   ],
   "source": [
    "#ad 1)\n",
    "import pandas\n",
    "\n",
    "#import requests for http-query\n",
    "import requests\n",
    "\n",
    "#import beautiful soup for scraping the website\n",
    "from bs4 import BeautifulSoup\n",
    "\n",
    "complete_website = requests.get('https://en.wikipedia.org/wiki/List_of_postal_codes_of_Canada:_M').text\n",
    "complete_soup = BeautifulSoup(complete_website,'xml')\n",
    "\n",
    "data_table = complete_soup.find('table',{'class':'wikitable sortable'})\n",
    "table_rows = data_table.find_all('tr')\n",
    "\n",
    "#The strip() returns a copy of the string with both leading and trailing white-spaces being stripped.\n",
    "\n",
    "my_list = []\n",
    "for row in table_rows:\n",
    "    my_list.append([col.text.strip() for col in row.find_all('td')])\n",
    "\n",
    "# complete requirement 1\n",
    "\n",
    "df = pandas.DataFrame(my_list, columns=['PostalCode', 'Borough', 'Neighborhood'])\n",
    "\n",
    "df.head()"
   ]
  },
  {
   "cell_type": "code",
   "execution_count": 14,
   "metadata": {},
   "outputs": [
    {
     "data": {
      "text/html": [
       "<div>\n",
       "<style scoped>\n",
       "    .dataframe tbody tr th:only-of-type {\n",
       "        vertical-align: middle;\n",
       "    }\n",
       "\n",
       "    .dataframe tbody tr th {\n",
       "        vertical-align: top;\n",
       "    }\n",
       "\n",
       "    .dataframe thead th {\n",
       "        text-align: right;\n",
       "    }\n",
       "</style>\n",
       "<table border=\"1\" class=\"dataframe\">\n",
       "  <thead>\n",
       "    <tr style=\"text-align: right;\">\n",
       "      <th></th>\n",
       "      <th>PostalCode</th>\n",
       "      <th>Borough</th>\n",
       "      <th>Neighborhood</th>\n",
       "    </tr>\n",
       "  </thead>\n",
       "  <tbody>\n",
       "    <tr>\n",
       "      <th>3</th>\n",
       "      <td>M3A</td>\n",
       "      <td>North York</td>\n",
       "      <td>Parkwoods</td>\n",
       "    </tr>\n",
       "    <tr>\n",
       "      <th>4</th>\n",
       "      <td>M4A</td>\n",
       "      <td>North York</td>\n",
       "      <td>Victoria Village</td>\n",
       "    </tr>\n",
       "    <tr>\n",
       "      <th>5</th>\n",
       "      <td>M5A</td>\n",
       "      <td>Downtown Toronto</td>\n",
       "      <td>Regent Park, Harbourfront</td>\n",
       "    </tr>\n",
       "    <tr>\n",
       "      <th>6</th>\n",
       "      <td>M6A</td>\n",
       "      <td>North York</td>\n",
       "      <td>Lawrence Manor, Lawrence Heights</td>\n",
       "    </tr>\n",
       "    <tr>\n",
       "      <th>7</th>\n",
       "      <td>M7A</td>\n",
       "      <td>Downtown Toronto</td>\n",
       "      <td>Queen's Park, Ontario Provincial Government</td>\n",
       "    </tr>\n",
       "  </tbody>\n",
       "</table>\n",
       "</div>"
      ],
      "text/plain": [
       "  PostalCode           Borough                                 Neighborhood\n",
       "3        M3A        North York                                    Parkwoods\n",
       "4        M4A        North York                             Victoria Village\n",
       "5        M5A  Downtown Toronto                    Regent Park, Harbourfront\n",
       "6        M6A        North York             Lawrence Manor, Lawrence Heights\n",
       "7        M7A  Downtown Toronto  Queen's Park, Ontario Provincial Government"
      ]
     },
     "execution_count": 14,
     "metadata": {},
     "output_type": "execute_result"
    }
   ],
   "source": [
    "#ad 2)\n",
    "# exclude NULL's from dataframe, this is not explicitly stated in 2) but seems to be straight forward....\n",
    "df2 = df[~df['Borough'].isnull()] \n",
    "\n",
    "# additionaly exclude \"Not assigned\" instances from dataframe\n",
    "\n",
    "mask = df2['Borough'].isin(['Not assigned'])\n",
    "df2=df2[~mask]\n",
    "df2.head()\n"
   ]
  },
  {
   "cell_type": "code",
   "execution_count": 33,
   "metadata": {},
   "outputs": [
    {
     "name": "stdout",
     "output_type": "stream",
     "text": [
      "This is the data type of the variable df2: >>>>>>> <class 'pandas.core.frame.DataFrame'>\n",
      "This is the size of the dataframe: >>>>>>> (103, 3)\n",
      "SUCCESS and GOOD LUCK: There are no duplicates\n"
     ]
    }
   ],
   "source": [
    "#ad 3) Check for duplicate postal codes\n",
    "print(\"This is the data type of the variable df2: >>>>>>>\",type(df2))\n",
    "print(\"This is the size of the dataframe: >>>>>>>\",df2.shape)\n",
    "unique_values=df2['PostalCode'].unique().shape\n",
    "\n",
    "\n",
    "if unique_values[0]==df2.shape[0]:\n",
    "    print(\"SUCCESS and GOOD LUCK: There are no duplicates\")\n",
    "else:\n",
    "    print(\"remove remaining duplicates\")\n",
    "    \n",
    "\n"
   ]
  },
  {
   "cell_type": "code",
   "execution_count": 57,
   "metadata": {},
   "outputs": [
    {
     "data": {
      "text/plain": [
       "(103, 3)"
      ]
     },
     "execution_count": 57,
     "metadata": {},
     "output_type": "execute_result"
    }
   ],
   "source": [
    "#ad 4) Check for not assigned neighbourhoods\n",
    "\n",
    "nbh_checker_mask=df2['Neighborhood'].isin(['Not assigned'])\n",
    "df3=df2[~nbh_checker_mask]\n",
    "df3.head()\n"
   ]
  },
  {
   "cell_type": "code",
   "execution_count": 58,
   "metadata": {},
   "outputs": [
    {
     "name": "stdout",
     "output_type": "stream",
     "text": [
      "There is no request for changing the df as we are not experiencing any unassigned neighbourhoods\n"
     ]
    }
   ],
   "source": [
    "#ad 4) Check if size has changed ....\n",
    "if df3.shape[0]== df2.shape[0]:\n",
    "    print(\"There is no request for changing the df as we are not experiencing any unassigned neighbourhoods\")\n",
    "else: \n",
    "    print(\"... we need some additional data transformation...\")"
   ]
  },
  {
   "cell_type": "code",
   "execution_count": null,
   "metadata": {},
   "outputs": [],
   "source": [
    "#ad 5) I have included one Markdown cell and several comments - hope this is o.k."
   ]
  },
  {
   "cell_type": "code",
   "execution_count": 59,
   "metadata": {},
   "outputs": [
    {
     "name": "stdout",
     "output_type": "stream",
     "text": [
      "The size of the DataFrame is:>>>>>  (103, 3)\n"
     ]
    }
   ],
   "source": [
    "#ad 6) size of the resulting dataframe\n",
    "print(\"The size of the DataFrame is:>>>>> \", df3.shape)"
   ]
  },
  {
   "cell_type": "code",
   "execution_count": null,
   "metadata": {},
   "outputs": [],
   "source": []
  }
 ],
 "metadata": {
  "kernelspec": {
   "display_name": "Python 3",
   "language": "python",
   "name": "python3"
  },
  "language_info": {
   "codemirror_mode": {
    "name": "ipython",
    "version": 3
   },
   "file_extension": ".py",
   "mimetype": "text/x-python",
   "name": "python",
   "nbconvert_exporter": "python",
   "pygments_lexer": "ipython3",
   "version": "3.7.6"
  }
 },
 "nbformat": 4,
 "nbformat_minor": 4
}
